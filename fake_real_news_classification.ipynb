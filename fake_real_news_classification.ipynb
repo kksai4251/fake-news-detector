{
 "cells": [
  {
   "cell_type": "code",
   "execution_count": 1,
   "metadata": {},
   "outputs": [
    {
     "name": "stderr",
     "output_type": "stream",
     "text": [
      "[nltk_data] Downloading package wordnet to /root/nltk_data...\n",
      "[nltk_data]   Package wordnet is already up-to-date!\n",
      "[nltk_data] Downloading package stopwords to /root/nltk_data...\n",
      "[nltk_data]   Package stopwords is already up-to-date!\n"
     ]
    }
   ],
   "source": [
    "import pandas as pd\n",
    "import numpy as np\n",
    "import matplotlib.pyplot as plt\n",
    "import seaborn as sns\n",
    "\n",
    "import nltk\n",
    "nltk.download('wordnet')\n",
    "nltk.download('stopwords')\n",
    "\n",
    "from sklearn.feature_extraction.text import CountVectorizer,TfidfVectorizer\n",
    "\n",
    "from sklearn.naive_bayes import MultinomialNB\n",
    "from sklearn.linear_model import LogisticRegression\n",
    "from sklearn.ensemble import RandomForestClassifier\n",
    "\n",
    "from sklearn.model_selection import GridSearchCV\n",
    "from sklearn.metrics import roc_curve, roc_auc_score\n",
    "from sklearn.model_selection import cross_val_score, KFold\n",
    "from sklearn.metrics import classification_report, confusion_matrix, accuracy_score \n",
    "from sklearn.model_selection import train_test_split\n",
    "\n",
    "import pickle\n",
    "\n",
    "%matplotlib inline"
   ]
  },
  {
   "cell_type": "code",
   "execution_count": 2,
   "metadata": {},
   "outputs": [],
   "source": [
    "with open(\"preprocessed_fake_real_data.pkl\", 'rb') as picklefile: \n",
    "    df = pickle.load(picklefile)"
   ]
  },
  {
   "cell_type": "markdown",
   "metadata": {},
   "source": [
    "### Feature extraction using TF-IDF vectorizer "
   ]
  },
  {
   "cell_type": "code",
   "execution_count": 3,
   "metadata": {},
   "outputs": [],
   "source": [
    "cv = TfidfVectorizer(max_features=20000) # shape (28665, 155161)\n",
    "X = cv.fit_transform(df['content'].tolist()).toarray()\n",
    "\n",
    "y=pd.get_dummies(df['type'])\n",
    "y=y.iloc[:,1].values"
   ]
  },
  {
   "cell_type": "code",
   "execution_count": 4,
   "metadata": {},
   "outputs": [],
   "source": [
    "# Adding title length into tf-itf vectorize matrix\n",
    "# X = np.concatenate((X, df[['content_punc_len_per','title_uppercase_len_per']].values.reshape(-1,2)), axis=1) \n",
    "# X"
   ]
  },
  {
   "cell_type": "code",
   "execution_count": 5,
   "metadata": {},
   "outputs": [
    {
     "data": {
      "text/plain": [
       "(28665, 20000)"
      ]
     },
     "execution_count": 5,
     "metadata": {},
     "output_type": "execute_result"
    }
   ],
   "source": [
    "X.shape"
   ]
  },
  {
   "cell_type": "code",
   "execution_count": 6,
   "metadata": {},
   "outputs": [],
   "source": [
    "# Train Test Split\n",
    "X_train, X_test, y_train, y_test = train_test_split(X, y, test_size = 0.20, random_state = 42, stratify=y)"
   ]
  },
  {
   "cell_type": "markdown",
   "metadata": {},
   "source": [
    "### Multinomial Naive Bayes"
   ]
  },
  {
   "cell_type": "code",
   "execution_count": 7,
   "metadata": {},
   "outputs": [
    {
     "name": "stdout",
     "output_type": "stream",
     "text": [
      "0.8677830106401535\n",
      "\n",
      "\n",
      "[[2015  576]\n",
      " [ 182 2960]]\n",
      "\n",
      "\n",
      "              precision    recall  f1-score   support\n",
      "\n",
      "           0       0.92      0.78      0.84      2591\n",
      "           1       0.84      0.94      0.89      3142\n",
      "\n",
      "    accuracy                           0.87      5733\n",
      "   macro avg       0.88      0.86      0.86      5733\n",
      "weighted avg       0.87      0.87      0.87      5733\n",
      "\n"
     ]
    }
   ],
   "source": [
    "# Multinomial Naive Bayes with single train-test split\n",
    "spam_detect_model = MultinomialNB().fit(X_train, y_train)\n",
    "\n",
    "y_pred=spam_detect_model.predict(X_test)\n",
    "\n",
    "print(accuracy_score(y_test, y_pred))\n",
    "print(\"\\n\")\n",
    "print(confusion_matrix(y_test, y_pred))\n",
    "print(\"\\n\")\n",
    "print(classification_report(y_test, y_pred))"
   ]
  },
  {
   "cell_type": "code",
   "execution_count": 8,
   "metadata": {},
   "outputs": [
    {
     "name": "stdout",
     "output_type": "stream",
     "text": [
      "[0.85524939 0.8545518  0.85734217 0.86989885 0.85699337 0.8611305\n",
      " 0.8555478  0.85275645 0.86741103 0.8649686 ]\n",
      "0.8595849952694607\n"
     ]
    }
   ],
   "source": [
    "# Multinomial Naive Bayes with cross validation\n",
    "m = MultinomialNB()\n",
    "kfold = KFold(n_splits=10, random_state=42, shuffle=True)\n",
    "scores = cross_val_score(m, X, y, cv=kfold)\n",
    "print(scores)\n",
    "print(scores.mean())"
   ]
  },
  {
   "cell_type": "code",
   "execution_count": 9,
   "metadata": {},
   "outputs": [
    {
     "name": "stdout",
     "output_type": "stream",
     "text": [
      "Train Accuracy : 0.8751090179661608\n",
      "{'alpha': 1e-10}\n",
      "MultinomialNB(alpha=1e-10, class_prior=None, fit_prior=True)\n",
      "Test Accuracy : 0.880690737833595 \n",
      "\n"
     ]
    }
   ],
   "source": [
    "# Multinomial Naive Bayes with cross validation and GridSearchCV\n",
    "param_grid = {'alpha': [1, 1e-2, 1e-3, 1e-10]}\n",
    "\n",
    "m = MultinomialNB()\n",
    "kfold = KFold(n_splits=10, random_state=42, shuffle=True)\n",
    "grid_search = GridSearchCV(m, param_grid, cv=kfold)\n",
    "grid_search.fit(X_train, y_train)\n",
    "\n",
    "print(\"Train Accuracy :\",grid_search.best_score_)\n",
    "print(grid_search.best_params_)\n",
    "print(grid_search.best_estimator_)\n",
    "\n",
    "predictions = grid_search.predict(X_test)\n",
    "print(\"Test Accuracy :\",accuracy_score(y_test, predictions),'\\n')\n"
   ]
  },
  {
   "cell_type": "markdown",
   "metadata": {},
   "source": [
    "## Logistic Regression"
   ]
  },
  {
   "cell_type": "code",
   "execution_count": 10,
   "metadata": {},
   "outputs": [
    {
     "name": "stdout",
     "output_type": "stream",
     "text": [
      "0.9258677830106401\n",
      "\n",
      "\n",
      "[[2364  227]\n",
      " [ 198 2944]]\n",
      "\n",
      "\n",
      "              precision    recall  f1-score   support\n",
      "\n",
      "           0       0.92      0.91      0.92      2591\n",
      "           1       0.93      0.94      0.93      3142\n",
      "\n",
      "    accuracy                           0.93      5733\n",
      "   macro avg       0.93      0.92      0.93      5733\n",
      "weighted avg       0.93      0.93      0.93      5733\n",
      "\n"
     ]
    }
   ],
   "source": [
    "# With single train test split\n",
    "clf = LogisticRegression(solver='liblinear').fit(X_train, y_train)\n",
    "y_pred = clf.predict(X_test)\n",
    "\n",
    "print(accuracy_score(y_test, y_pred))\n",
    "print(\"\\n\")\n",
    "print(confusion_matrix(y_test, y_pred))\n",
    "print(\"\\n\")\n",
    "print(classification_report(y_test, y_pred))"
   ]
  },
  {
   "cell_type": "code",
   "execution_count": 11,
   "metadata": {},
   "outputs": [
    {
     "name": "stdout",
     "output_type": "stream",
     "text": [
      "[0.92465992 0.92256714 0.93547262 0.93686781 0.92256714 0.92637823\n",
      " 0.93021633 0.92533147 0.91765527 0.93370551]\n",
      "0.9275421446393752\n"
     ]
    }
   ],
   "source": [
    "# Logistic with cross validation\n",
    "logreg = LogisticRegression(solver='liblinear')\n",
    "kfold = KFold(n_splits=10, random_state=42, shuffle=True)\n",
    "scores = cross_val_score(logreg, X, y, cv=kfold)\n",
    "print(scores)\n",
    "print(scores.mean())"
   ]
  },
  {
   "cell_type": "code",
   "execution_count": 14,
   "metadata": {},
   "outputs": [
    {
     "name": "stdout",
     "output_type": "stream",
     "text": [
      "Train Accuracy : 0.9395168323739752\n",
      "{'C': 10, 'penalty': 'l2'}\n",
      "LogisticRegression(C=10, class_weight=None, dual=False, fit_intercept=True,\n",
      "                   intercept_scaling=1, l1_ratio=None, max_iter=100,\n",
      "                   multi_class='warn', n_jobs=None, penalty='l2',\n",
      "                   random_state=None, solver='liblinear', tol=0.0001, verbose=0,\n",
      "                   warm_start=False)\n",
      "Test Accuracy : 0.9419152276295133 \n",
      "\n"
     ]
    }
   ],
   "source": [
    "# Logistic with cross validation and GridSearchCV\n",
    "\n",
    "param_grid = [{'C': [0.1, 1, 10, 100],\n",
    "                'penalty': ['l1','l2']  \n",
    "             }]\n",
    "\n",
    "m = LogisticRegression(solver='liblinear')\n",
    "kfold = KFold(n_splits=10, random_state=42, shuffle=True)\n",
    "grid_search = GridSearchCV(m, param_grid, cv=kfold)\n",
    "grid_search.fit(X_train, y_train)\n",
    "\n",
    "print(\"Train Accuracy :\",grid_search.best_score_)\n",
    "print(grid_search.best_params_)\n",
    "print(grid_search.best_estimator_)\n",
    "\n",
    "predictions = grid_search.predict(X_test)\n",
    "print(\"Test Accuracy :\",accuracy_score(y_test, predictions),'\\n')"
   ]
  },
  {
   "cell_type": "markdown",
   "metadata": {},
   "source": [
    "### Random Forests"
   ]
  },
  {
   "cell_type": "code",
   "execution_count": 15,
   "metadata": {},
   "outputs": [
    {
     "name": "stdout",
     "output_type": "stream",
     "text": [
      "              precision    recall  f1-score   support\n",
      "\n",
      "           0       0.91      0.78      0.84      2591\n",
      "           1       0.84      0.94      0.89      3142\n",
      "\n",
      "    accuracy                           0.87      5733\n",
      "   macro avg       0.88      0.86      0.86      5733\n",
      "weighted avg       0.87      0.87      0.87      5733\n",
      "\n",
      "Accuracy : 0.8679574393860108 \n",
      "\n"
     ]
    }
   ],
   "source": [
    "#Random Forest with singal train-test split\n",
    "\n",
    "\n",
    "m = RandomForestClassifier(n_estimators=40, min_samples_leaf=3, n_jobs=-1)\n",
    "m.fit(X_train, y_train)\n",
    "\n",
    "predictions = m.predict(X_test)\n",
    "print(classification_report(y_test, predictions))\n",
    "print(\"Accuracy :\",accuracy_score(y_test, predictions),'\\n')"
   ]
  },
  {
   "cell_type": "code",
   "execution_count": 7,
   "metadata": {},
   "outputs": [
    {
     "name": "stdout",
     "output_type": "stream",
     "text": [
      "Train Accuracy : 0.8761555904413048\n",
      "{'n_estimators': 100}\n",
      "RandomForestClassifier(bootstrap=True, class_weight=None, criterion='gini',\n",
      "                       max_depth=None, max_features='auto', max_leaf_nodes=None,\n",
      "                       min_impurity_decrease=0.0, min_impurity_split=None,\n",
      "                       min_samples_leaf=3, min_samples_split=2,\n",
      "                       min_weight_fraction_leaf=0.0, n_estimators=100,\n",
      "                       n_jobs=-1, oob_score=False, random_state=None, verbose=0,\n",
      "                       warm_start=False)\n",
      "Test Accuracy : 0.8754578754578755 \n",
      "\n"
     ]
    }
   ],
   "source": [
    "# Random Forest with cross validation and grid search\n",
    "\n",
    "param_grid = [{'n_estimators':[30, 40, 100]}]\n",
    "               \n",
    "               #'max_features':[6, 10, 12]}\n",
    "\n",
    "m = RandomForestClassifier(n_estimators=40, min_samples_leaf=3, n_jobs=-1)\n",
    "kfold = KFold(n_splits=10, random_state=42, shuffle=True)\n",
    "grid_search = GridSearchCV(m, param_grid, cv=kfold)\n",
    "grid_search.fit(X_train, y_train)\n",
    "\n",
    "print(\"Train Accuracy :\",grid_search.best_score_)\n",
    "print(grid_search.best_params_)\n",
    "print(grid_search.best_estimator_)\n",
    "\n",
    "predictions = grid_search.predict(X_test)\n",
    "print(\"Test Accuracy :\",accuracy_score(y_test, predictions),'\\n')"
   ]
  },
  {
   "cell_type": "markdown",
   "metadata": {},
   "source": [
    "### ROC AUC Curve"
   ]
  },
  {
   "cell_type": "code",
   "execution_count": 8,
   "metadata": {},
   "outputs": [],
   "source": [
    "classifiers = [LogisticRegression(solver='liblinear'), \n",
    "               MultinomialNB(),\n",
    "              RandomForestClassifier(n_estimators=100, min_samples_leaf=3, n_jobs=-1)]\n",
    "\n",
    "# Define a result table as a DataFrame\n",
    "result_table = pd.DataFrame(columns=['classifiers', 'fpr','tpr','auc'])\n",
    "\n",
    "# Train the models and record the results\n",
    "for cls in classifiers:\n",
    "    model = cls.fit(X_train, y_train)\n",
    "    yproba = model.predict_proba(X_test)[::,1]\n",
    "    \n",
    "    fpr, tpr, _ = roc_curve(y_test,  yproba)\n",
    "    auc = roc_auc_score(y_test, yproba)\n",
    "    \n",
    "    result_table = result_table.append({'classifiers':cls.__class__.__name__,\n",
    "                                        'fpr':fpr, \n",
    "                                        'tpr':tpr, \n",
    "                                        'auc':auc}, ignore_index=True)\n",
    "\n",
    "# Set name of the classifiers as index labels\n",
    "result_table.set_index('classifiers', inplace=True)"
   ]
  },
  {
   "cell_type": "code",
   "execution_count": 9,
   "metadata": {},
   "outputs": [
    {
     "data": {
      "image/png": "[encoded data removed]",
      "text/plain": [
       "<Figure size 576x432 with 1 Axes>"
      ]
     },
     "metadata": {
      "needs_background": "light"
     },
     "output_type": "display_data"
    }
   ],
   "source": [
    "fig = plt.figure(figsize=(8,6))\n",
    "\n",
    "for i in result_table.index:\n",
    "    plt.plot(result_table.loc[i]['fpr'], \n",
    "             result_table.loc[i]['tpr'], \n",
    "             label=\"{}, AUC={:.3f}\".format(i, result_table.loc[i]['auc']))\n",
    "    \n",
    "plt.plot([0,1], [0,1], color='orange', linestyle='--')\n",
    "\n",
    "plt.xticks(np.arange(0.0, 1.1, step=0.1))\n",
    "plt.xlabel(\"Flase Positive Rate\", fontsize=15)\n",
    "\n",
    "plt.yticks(np.arange(0.0, 1.1, step=0.1))\n",
    "plt.ylabel(\"True Positive Rate\", fontsize=15)\n",
    "\n",
    "plt.title('ROC Curve Analysis', fontweight='bold', fontsize=15)\n",
    "plt.legend(prop={'size':13}, loc='lower right')\n",
    "\n",
    "plt.show()"
   ]
  },
  {
   "cell_type": "code",
   "execution_count": null,
   "metadata": {},
   "outputs": [],
   "source": []
  }
 ],
 "metadata": {
  "kernelspec": {
   "display_name": "Python 3",
   "language": "python",
   "name": "python3"
  },
  "language_info": {
   "codemirror_mode": {
    "name": "ipython",
    "version": 3
   },
   "file_extension": ".py",
   "mimetype": "text/x-python",
   "name": "python",
   "nbconvert_exporter": "python",
   "pygments_lexer": "ipython3",
   "version": "3.6.8"
  }
 },
 "nbformat": 4,
 "nbformat_minor": 2
}
